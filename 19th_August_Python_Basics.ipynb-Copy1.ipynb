{
 "cells": [
  {
   "cell_type": "code",
   "execution_count": 1,
   "id": "fb0835ff-3683-41cc-916a-57f344eb3980",
   "metadata": {},
   "outputs": [
    {
     "name": "stdin",
     "output_type": "stream",
     "text": [
      "temperature in Degree Celsius 32\n"
     ]
    },
    {
     "name": "stdout",
     "output_type": "stream",
     "text": [
      "89.6\n"
     ]
    }
   ],
   "source": [
    "Celsius=float(input(\"temperature in Degree Celsius\")) \n",
    "Farenhiet= (1.8*Celsius)+32\n",
    "print(Farenhiet) \n",
    "                    \n",
    "    \n",
    "      \n",
    "                    \n",
    "                    \n"
   ]
  },
  {
   "cell_type": "code",
   "execution_count": 17,
   "id": "11746812-ad5e-45ff-83a4-e7f8fb3916de",
   "metadata": {},
   "outputs": [
    {
     "name": "stdin",
     "output_type": "stream",
     "text": [
      "length in Metre 25\n",
      "Breadth in Metre 25\n"
     ]
    },
    {
     "name": "stdout",
     "output_type": "stream",
     "text": [
      "625.0\n"
     ]
    }
   ],
   "source": [
    "Length=float(input(\"length in Metre\")) \n",
    "         \n",
    "Breadth=float(input(\"Breadth in Metre\")) \n",
    "         \n",
    "Area= (Length*Breadth)  \n",
    "\n",
    "print(Area)   \n",
    "         \n",
    "         \n"
   ]
  },
  {
   "cell_type": "code",
   "execution_count": 39,
   "id": "112ef353-f7ee-49b7-a88e-a5aa9911740c",
   "metadata": {},
   "outputs": [
    {
     "name": "stdin",
     "output_type": "stream",
     "text": [
      " Hard work is the only key to sucess\n"
     ]
    },
    {
     "name": "stdout",
     "output_type": "stream",
     "text": [
      "35\n"
     ]
    }
   ],
   "source": [
    "String= str(input()) \n",
    "\n",
    "Length= len(String) \n",
    "\n",
    "print(Length)"
   ]
  },
  {
   "cell_type": "code",
   "execution_count": 41,
   "id": "aca92ab6-6d7c-4031-ab27-ad8dd1a1760f",
   "metadata": {},
   "outputs": [
    {
     "name": "stdin",
     "output_type": "stream",
     "text": [
      "Sentence rounak\n"
     ]
    },
    {
     "name": "stdout",
     "output_type": "stream",
     "text": [
      "Number of vowels in the string  3 \n"
     ]
    }
   ],
   "source": [
    "def count_vowels(Rounak_string):\n",
    "    vowels = \"aeiouAEIOU\"\n",
    "    count = 0\n",
    "\n",
    "    for char in Rounak_string:\n",
    "        if char in vowels:\n",
    "            count += 1\n",
    "\n",
    "    return count\n",
    "Rounak_String = str(input(\"Sentence\" )) \n",
    "result = count_vowels(Rounak_String) \n",
    "print(f\"Number of vowels in the string  {result} \") \n"
   ]
  },
  {
   "cell_type": "code",
   "execution_count": 43,
   "id": "2f41f2dc-54d8-4c24-b2e3-9359514af290",
   "metadata": {},
   "outputs": [
    {
     "name": "stdout",
     "output_type": "stream",
     "text": [
      "kanuoR\n"
     ]
    }
   ],
   "source": [
    "Original=\"Rounak\"\n",
    "Reversed=Original[::-1] \n",
    "print(Reversed) "
   ]
  },
  {
   "cell_type": "code",
   "execution_count": 4,
   "id": "76cf8f27-c7b9-4123-b01b-bc52954bc190",
   "metadata": {},
   "outputs": [
    {
     "name": "stdout",
     "output_type": "stream",
     "text": [
      "MyNameisRounakKumarSahu\n"
     ]
    }
   ],
   "source": [
    "StringA= \"My Name is Rounak Kumar Sahu\"\n",
    "StringB= StringA.replace(\" \",\"\")\n",
    "print(StringB) "
   ]
  },
  {
   "cell_type": "code",
   "execution_count": 4,
   "id": "ab01046e-4630-4fb5-9fdd-4a760c57ea60",
   "metadata": {},
   "outputs": [
    {
     "name": "stdout",
     "output_type": "stream",
     "text": [
      "a: 10\n",
      "b: 5\n"
     ]
    }
   ],
   "source": [
    "a=5\n",
    "b=10\n",
    "a,b=b,a\n",
    "print(\"a:\",a)\n",
    "print(\"b:\",b)"
   ]
  },
  {
   "cell_type": "code",
   "execution_count": 24,
   "id": "b75743c0-4dbb-4e3d-8c77-5b3b00c7125e",
   "metadata": {},
   "outputs": [
    {
     "name": "stdin",
     "output_type": "stream",
     "text": [
      " stupid\n"
     ]
    },
    {
     "name": "stdout",
     "output_type": "stream",
     "text": [
      "stupid is not a palindrome.\n"
     ]
    }
   ],
   "source": [
    "input_word=str(input())\n",
    "word = input_word.lower() \n",
    "input_word == input_word[::-1]\n",
    "if is_palindrome(input_word):\n",
    "    print(f\"{input_word} is a palindrome.\")\n",
    "else:\n",
    "    print(f\"{input_word} is not a palindrome.\")\n"
   ]
  }
 ],
 "metadata": {
  "kernelspec": {
   "display_name": "Python 3 (ipykernel)",
   "language": "python",
   "name": "python3"
  },
  "language_info": {
   "codemirror_mode": {
    "name": "ipython",
    "version": 3
   },
   "file_extension": ".py",
   "mimetype": "text/x-python",
   "name": "python",
   "nbconvert_exporter": "python",
   "pygments_lexer": "ipython3",
   "version": "3.10.8"
  }
 },
 "nbformat": 4,
 "nbformat_minor": 5
}
